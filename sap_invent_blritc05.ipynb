{
 "cells": [
  {
   "cell_type": "code",
   "execution_count": null,
   "metadata": {},
   "outputs": [],
   "source": [
    "import hdbcli\n",
    "import hana_ml\n",
    "\n",
    "print(\"Modules imported successfully!\")"
   ]
  },
  {
   "cell_type": "code",
   "execution_count": 51,
   "metadata": {},
   "outputs": [],
   "source": [
    "from hdbcli import dbapi\n",
    "import hana_ml.dataframe as dataframe\n",
    "from gen_ai_hub.proxy.langchain.openai import OpenAIEmbeddings\n",
    "from gen_ai_hub.proxy.core.proxy_clients import get_proxy_client\n",
    "from langchain.chains import RetrievalQA\n",
    "from langchain.text_splitter import CharacterTextSplitter\n",
    "from langchain.text_splitter import TokenTextSplitter\n",
    "from langchain.document_loaders import TextLoader\n",
    "from langchain.document_loaders import PyPDFLoader\n",
    "from langchain.document_loaders import UnstructuredExcelLoader\n",
    "from langchain_community.vectorstores.hanavector import HanaDB"
   ]
  },
  {
   "cell_type": "code",
   "execution_count": 50,
   "metadata": {},
   "outputs": [],
   "source": [
    "#This script is used to get the access token for the BTP LLM API\n",
    "import json\n",
    "import requests\n",
    "\n",
    "with open(\"irpa-r998-genaixl-sk.json\", \"r\") as key_file:\n",
    "    svcKey = json.load(key_file)\n",
    "authUrl = svcKey[\"url\"]\n",
    "clientid = svcKey[\"clientid\"]\n",
    "clientsecret = svcKey[\"clientsecret\"]\n",
    "apiUrl = svcKey[\"serviceurls\"][\"AI_API_URL\"]\n",
    "\n",
    "# request token\n",
    "params = {\"grant_type\": \"client_credentials\" }\n",
    "resp = requests.post(f\"{authUrl}/oauth/token\",\n",
    "                    auth=(clientid, clientsecret),\n",
    "                    params=params)\n",
    "\n",
    "BtpLlmApiUrl = apiUrl\n",
    "BtpLlmAccessToken = resp.json()[\"access_token\"]"
   ]
  },
  {
   "cell_type": "code",
   "execution_count": null,
   "metadata": {},
   "outputs": [],
   "source": [
    "# Set the environment variables for the BTP LLM API\n",
    "import os \n",
    "\n",
    "# Define Keys HERE\n",
    "env_vars = {    \n",
    " \"AICORE_AUTH_URL\": authUrl,\n",
    " \"AICORE_CLIENT_ID\": clientid,\n",
    " \"AICORE_CLIENT_SECRET\": clientsecret,\n",
    " \"AICORE_RESOURCE_GROUP\": \"default\",\n",
    " \"AICORE_BASE_URL\": apiUrl\n",
    "}\n",
    "\n",
    "os.environ.update(env_vars)"
   ]
  },
  {
   "cell_type": "code",
   "execution_count": null,
   "metadata": {},
   "outputs": [],
   "source": [
    "from gen_ai_hub.proxy.native.openai import chat\n",
    "\n",
    "messages = [ {\"role\": \"user\", \"content\": \"Could you please clasify the data based on same category?\"} ]\n",
    "\n",
    "kwargs = dict(model_name='gpt-4o-mini', messages=messages)\n",
    "response = chat.completions.create(**kwargs)\n",
    "import json\n",
    "response_dict = json.loads(response.json())\n",
    "message_value = response_dict['choices'][0]['message']['content']\n",
    "message_value"
   ]
  },
  {
   "cell_type": "code",
   "execution_count": null,
   "metadata": {},
   "outputs": [],
   "source": [
    "from langchain.document_loaders import UnstructuredExcelLoader\n",
    "\n",
    "# Load Excel files\n",
    "loaders = [\n",
    "    #UnstructuredExcelLoader(\"ITCdataset.xlsx\"),\n",
    "    UnstructuredExcelLoader(\"ITCdatamasked.xlsx\"),\n",
    "]\n",
    "\n",
    "docs = []\n",
    "for loader in loaders:\n",
    "    docs.extend(loader.load())\n",
    "\n",
    "print(\"Documents loaded successfully:\", len(docs))"
   ]
  },
  {
   "cell_type": "code",
   "execution_count": null,
   "metadata": {},
   "outputs": [],
   "source": [
    "from langchain.text_splitter import RecursiveCharacterTextSplitter\n",
    "\n",
    "# Modify the chunk_size and chunk_overlap parameters\n",
    "text_splitter = RecursiveCharacterTextSplitter(\n",
    "    chunk_size=1500,  # You can change this value\n",
    "    chunk_overlap=150  # You can change this value\n",
    ")\n",
    "\n",
    "splits = text_splitter.split_documents(docs)\n",
    "len(splits)  # Output the number of chunks"
   ]
  },
  {
   "cell_type": "code",
   "execution_count": null,
   "metadata": {},
   "outputs": [],
   "source": [
    "# Split\n",
    "from langchain.text_splitter import RecursiveCharacterTextSplitter\n",
    "text_splitter = RecursiveCharacterTextSplitter(\n",
    "    chunk_size = 1500,\n",
    "    chunk_overlap = 150\n",
    ")"
   ]
  },
  {
   "cell_type": "code",
   "execution_count": null,
   "metadata": {},
   "outputs": [],
   "source": [
    "splits = text_splitter.split_documents(docs)\n",
    "print(splits)"
   ]
  },
  {
   "cell_type": "code",
   "execution_count": null,
   "metadata": {},
   "outputs": [],
   "source": [
    "len(splits)\n",
    "print (len(splits))"
   ]
  },
  {
   "cell_type": "code",
   "execution_count": null,
   "metadata": {},
   "outputs": [],
   "source": [
    "from gen_ai_hub.proxy.native.openai import embeddings\n",
    "\n",
    "response = embeddings.create(\n",
    "    input=\"Classification planning is complex, and people struggle to manage classification and grouping of similar items to find best vendor\",\n",
    "    model_name=\"text-embedding-ada-002\"\n",
    ")\n",
    "print(response.data)"
   ]
  },
  {
   "cell_type": "code",
   "execution_count": null,
   "metadata": {},
   "outputs": [],
   "source": [
    "len(response.data[0].embedding)\n",
    "print(len(response.data[0].embedding))"
   ]
  },
  {
   "cell_type": "code",
   "execution_count": null,
   "metadata": {},
   "outputs": [],
   "source": [
    "embedding_model = OpenAIEmbeddings(proxy_model_name='text-embedding-ada-002')"
   ]
  },
  {
   "cell_type": "code",
   "execution_count": null,
   "metadata": {},
   "outputs": [],
   "source": [
    "sentence1 = \"classification is complex to group the similar data\"\n",
    "sentence2 = \"compare the prices and suggest the best vendoe\"\n",
    "sentence3 = \"create a centrlized material code for all the uncoded data\""
   ]
  },
  {
   "cell_type": "code",
   "execution_count": null,
   "metadata": {},
   "outputs": [],
   "source": [
    "from gen_ai_hub.proxy.langchain.openai import ChatOpenAI\n",
    "from gen_ai_hub.proxy.core.proxy_clients import get_proxy_client\n",
    "\n",
    "proxy_client = get_proxy_client('gen-ai-hub')\n",
    "chat_llm = ChatOpenAI(proxy_model_name='gpt-4o-mini', proxy_client=proxy_client, temperature=0.0)"
   ]
  },
  {
   "cell_type": "code",
   "execution_count": null,
   "metadata": {},
   "outputs": [],
   "source": [
    "embedding1 = embedding_model.embed_query(sentence1)\n",
    "embedding2 = embedding_model.embed_query(sentence2)\n",
    "embedding3 = embedding_model.embed_query(sentence3)"
   ]
  },
  {
   "cell_type": "code",
   "execution_count": null,
   "metadata": {},
   "outputs": [],
   "source": [
    "import numpy as np"
   ]
  },
  {
   "cell_type": "code",
   "execution_count": null,
   "metadata": {},
   "outputs": [],
   "source": [
    "np.dot(embedding1, embedding2)"
   ]
  },
  {
   "cell_type": "code",
   "execution_count": null,
   "metadata": {},
   "outputs": [],
   "source": [
    "np.dot(embedding1, embedding3)"
   ]
  },
  {
   "cell_type": "code",
   "execution_count": null,
   "metadata": {},
   "outputs": [],
   "source": [
    "np.dot(embedding2, embedding3)"
   ]
  },
  {
   "cell_type": "code",
   "execution_count": null,
   "metadata": {},
   "outputs": [],
   "source": [
    "# Get the HANA Cloud username from environment variables\n",
    "HANA_USER_VDB = 'DBADMIN'\n",
    "# Get the HANA Cloud password from environment variables\n",
    "\n",
    "HANA_PASSWORD_VDB = 'Qwerty@0303'\n",
    "# Get the HANA Cloud host from environment variables - You need to configure this with your instance details\n",
    "#Hint-  This is you SQL end point. But you need to remove \":443\" from the SQL endpoint as port is already hardcoded in below cell\n",
    "HANA_HOST = '653333c1-1c26-4c11-afc3-0b2962e0533f.hana.trial-us10.hanacloud.ondemand.com'"
   ]
  },
  {
   "cell_type": "code",
   "execution_count": null,
   "metadata": {},
   "outputs": [],
   "source": [
    "# Use connection settings from the environment\n",
    "connection = dbapi.connect(\n",
    "    address=HANA_HOST,\n",
    "    port=443,\n",
    "    user=HANA_USER_VDB,\n",
    "    password=HANA_PASSWORD_VDB,\n",
    "    encrypt='true',\n",
    "    autocommit=True\n",
    ")"
   ]
  },
  {
   "cell_type": "code",
   "execution_count": null,
   "metadata": {},
   "outputs": [],
   "source": [
    "# Connection Context\n",
    "conn = dataframe.ConnectionContext(\n",
    "    address=HANA_HOST,  \n",
    "    port=443,\n",
    "    user=HANA_USER_VDB,\n",
    "    password=HANA_PASSWORD_VDB,\n",
    "    encrypt='true',\n",
    "    autocommit=True\n",
    ")"
   ]
  },
  {
   "cell_type": "code",
   "execution_count": null,
   "metadata": {},
   "outputs": [],
   "source": [
    "from gen_ai_hub.proxy.langchain.openai import ChatOpenAI\n",
    "from gen_ai_hub.proxy.core.proxy_clients import get_proxy_client\n",
    "\n",
    "proxy_client = get_proxy_client('gen-ai-hub')\n",
    "chat_llm = ChatOpenAI(proxy_model_name='gpt-4o-mini', proxy_client=proxy_client, temperature=0.0)"
   ]
  },
  {
   "cell_type": "code",
   "execution_count": null,
   "metadata": {},
   "outputs": [],
   "source": [
    "db = HanaDB(\n",
    "    embedding=embedding_model,\n",
    "    connection=connection,\n",
    "    table_name=\"SAP_INVENT_ITC\"\n",
    "    # vector_column_length=1536\n",
    ")\n",
    "\n",
    "# # Delete already existing documents from the table\n",
    "db.delete(filter={})\n",
    "\n",
    "# # add the loaded document chunks \n",
    "db.add_documents(splits)"
   ]
  },
  {
   "cell_type": "code",
   "execution_count": null,
   "metadata": {},
   "outputs": [],
   "source": [
    "# take a look at the table\n",
    "hdf = conn.sql(''' SELECT \"VEC_TEXT\", \"VEC_META\", TO_NVARCHAR(\"VEC_VECTOR\") AS \"VEC_VECTOR\" FROM \"SAP_INVENT_ITC\" ''')\n",
    "df = hdf.head(10).collect()\n",
    "df"
   ]
  },
  {
   "cell_type": "code",
   "execution_count": null,
   "metadata": {},
   "outputs": [],
   "source": [
    "retriever = db.as_retriever()"
   ]
  },
  {
   "cell_type": "code",
   "execution_count": null,
   "metadata": {},
   "outputs": [],
   "source": [
    "from langchain_core.prompts import ChatPromptTemplate\n",
    "prompt = ChatPromptTemplate.from_template(\"\"\"Provide answers based on context provided:\n",
    "\n",
    "<context>\n",
    "{context}\n",
    "</context>\n",
    "\n",
    "Question: {input}\"\"\")"
   ]
  },
  {
   "cell_type": "code",
   "execution_count": null,
   "metadata": {},
   "outputs": [],
   "source": [
    "from langchain.chains import create_retrieval_chain\n",
    "from langchain.chains.combine_documents import create_stuff_documents_chain\n",
    "\n",
    "document_chain = create_stuff_documents_chain(chat_llm, prompt)\n",
    "retrieval_chain = create_retrieval_chain(retriever, document_chain)"
   ]
  },
  {
   "cell_type": "code",
   "execution_count": 69,
   "metadata": {},
   "outputs": [
    {
     "name": "stdout",
     "output_type": "stream",
     "text": [
      "Based on the provided context, here is the classification of the data into five columns: HSN Code, Vendor Code, Vendor Name, Short Text, and a unique Short Material Code. The Short Material Code is created by combining the first few characters of the Short Text and the HSN Code, ensuring it does not exceed ten characters.\n",
      "\n",
      "| HSN Code      | Vendor Code   | Vendor Name | Short Text                          | Short Material Code |\n",
      "|---------------|---------------|-------------|-------------------------------------|----------------------|\n",
      "| 8473 30 99    | 2699386794    | Dell        | Dell Thunderbolt Dock - WD22TB4    | DTDWD22TB4           |\n",
      "| 4818 10 00    | 3316872936    | Scott       | Scott Slim roll towel               | SRTOWEL              |\n",
      "| 3401 30 90    | 3316872936    | Nimlyle     | Nimlyle Floor Cleaner               | NFCLEANER            |\n",
      "| 3402 20 10    | 3316872936    | Savlon      | Savlon Handwash pump type           | SHANDWASH            |\n",
      "| 3808 94 00    | 3316872936    | Domex       | Domex Toilet Cleaner                | DTCLEANER            |\n",
      "| 3401 30 90    | 3316872936    | Lizol       | Lizol 500 ml                        | LIZ500ML             |\n",
      "| 2024-01-31    | 3316872936    | Vim         | vim liquid 500 ml                  | VIM500ML             |\n",
      "| 2024-01-31    | 3316872936    | Paper Cutter | PAPER CUTTER BIG                    | PCBIGCUTTER          |\n",
      "| 2024-02-09    | 2952213826    | Cleaning    | CLEANING CLOTH                      | CLCLOTH              |\n",
      "| 4819B         | 2952213826    | Tissue      | TISSUE PAPER                        | TISPAPER             |\n",
      "| 4820A         | 8943967967    | OR Gate     | OR Gate Pass                        | ORGATEPASS           |\n",
      "| 4819B         | 2952213826    | Disposal     | DISPOSAL CUP                        | DISPCUP              |\n",
      "| 8544          | 6728113865    | Commscope   | UTP CAT-6 CABLE                    | UTPCAT6              |\n",
      "| 4820A         | 8943967967    | SPP         | SPP Enrollment form                 | SPPENROLL            |\n",
      "| 4817 10 00    | 4109861589    | Cloth       | CLOTH PESTING ENV(NORMMAL) PRINT   | CPEPRINT             |\n",
      "| 9611          | 4109861589    | Stamp       | Wooden/Polymer Stamp(4 Lines)      | WPS4LINES            |\n",
      "| 9611          | 4109861589    | Stamp       | Self Ink Stamp(Shine,S827D,Date,2col)| SIS827D            |\n",
      "| 4817 20 00    | 4109861589    | Greetings    | Diwali Greetings Cards(11x7.5)     | DGC11X7              |\n",
      "| 4909 00 90    | 4109861589    | Visiting Card| Visiting Card(Digital Print,One side)| VCDPONE            |\n",
      "| 4820 30 00    | 2919075707    | My Clear Bag | My clear Bag                        | MYCLEARBAG           |\n",
      "\n",
      "This table summarizes the data as requested, with unique Short Material Codes created based on the Short Text and HSN Code.\n"
     ]
    }
   ],
   "source": [
    "response = retrieval_chain.invoke({\"input\": \"can you clasify the given data into five columns HSNcode, Vendor code, vendor name and short text. Then create a unique short material code with not more than ten charactors based on the short text and hsn code. \"})\n",
    "print(response[\"answer\"])"
   ]
  },
  {
   "cell_type": "code",
   "execution_count": 54,
   "metadata": {},
   "outputs": [
    {
     "name": "stdout",
     "output_type": "stream",
     "text": [
      "Based on the provided context, the data can be classified into two main categories: **Product Information** and **Vendor Information**. \n",
      "\n",
      "### 1. Product Information\n",
      "This category includes details about various products, which can be identified using the following fields:\n",
      "- **Description**: The name or description of the product.\n",
      "- **HSN Code**: The Harmonized System of Nomenclature code for classification.\n",
      "- **Material Group**: The group to which the material belongs.\n",
      "\n",
      "#### Examples:\n",
      "- **PR_WAVE_SHOT_DSFT_PCK(PH-II)**: \n",
      "  - HSN Code: 4911 99 90\n",
      "  - Material Group: AU\n",
      "  - Net Price: 112488.5 INR\n",
      "  - Effective Price: 132736.4 INR\n",
      "\n",
      "- **Allyl Cyclo Hexyl Propionate**: \n",
      "  - HSN Code: 2916 20 00\n",
      "  - Material Group: KG\n",
      "  - Net Price: 6500 INR\n",
      "  - Effective Price: 3250 INR\n",
      "\n",
      "### 2. Vendor Information\n",
      "This category includes details related to vendor ranking, which can be assessed using:\n",
      "- **Net Price**: The base price of the product.\n",
      "- **Effective Price**: The final price after any adjustments.\n",
      "\n",
      "#### Examples:\n",
      "- For the product **PR_CLASSIC_CONNECT_SS_PCT**:\n",
      "  - Net Price: 849475.8 INR\n",
      "  - Effective Price: 1002381.4 INR\n",
      "\n",
      "- For the product **Diethyl Malonate**:\n",
      "  - Net Price: 3250 INR\n",
      "  - Effective Price: 3835 INR\n",
      "\n",
      "### Summary\n",
      "The data can be organized into products with their respective descriptions, HSN codes, material groups, net prices, and effective prices. This classification helps in identifying products and assessing vendor performance based on pricing.\n"
     ]
    }
   ],
   "source": [
    "generated = retrieval_chain.invoke({\"input\": \"Can you classify the given data based on their similarities\"})\n",
    "print(generated[\"answer\"])"
   ]
  },
  {
   "cell_type": "code",
   "execution_count": null,
   "metadata": {},
   "outputs": [],
   "source": [
    "generated = retrieval_chain.invoke({\"input\": \"Can you suggest a best vendor and their name to procure the paper?\"})\n",
    "print(generated[\"answer\"])"
   ]
  },
  {
   "cell_type": "code",
   "execution_count": 65,
   "metadata": {},
   "outputs": [
    {
     "name": "stdout",
     "output_type": "stream",
     "text": [
      "Based on the provided context, here are the top 3 vendors for procuring garlic (lasun) or similar products:\n",
      "\n",
      "1. **Vendor: ZZZ 9287663684**\n",
      "   - **Pros:** Offers a large quantity (300 KG) at a competitive price (1400 INR).\n",
      "   - **Cons:** Limited variety of garlic products available.\n",
      "   - **Rank:** 1\n",
      "\n",
      "2. **Vendor: ZZZ 3448954652**\n",
      "   - **Pros:** Provides a diverse range of products including garlic at reasonable prices.\n",
      "   - **Cons:** Smaller quantities available compared to other vendors.\n",
      "   - **Rank:** 2\n",
      "\n",
      "3. **Vendor: ZZZ 1702563974**\n",
      "   - **Pros:** Offers garlic at a lower price point (105 INR for 750 KG).\n",
      "   - **Cons:** Limited product range and higher minimum order quantities.\n",
      "   - **Rank:** 3\n"
     ]
    }
   ],
   "source": [
    "generated = retrieval_chain.invoke({\"input\": \"can you suggest a top 3 best vendor to procure a garlic or similar product like lasun and provide pros and cons of each vendor in one line and give rank to vendor\"})\n",
    "print(generated[\"answer\"])"
   ]
  },
  {
   "cell_type": "code",
   "execution_count": 66,
   "metadata": {},
   "outputs": [
    {
     "name": "stdout",
     "output_type": "stream",
     "text": [
      "Based on the provided context, here are the top 3 vendors for procuring ball pens, ranked by the quantity and variety of ball pens available:\n",
      "\n",
      "1. **Vendor: SRE CONSMOTH**\n",
      "   - **Rank: 1**\n",
      "   - **Details:**\n",
      "     - Offers a wide variety of ball pens including:\n",
      "       - BALL PEN BLUE (FOR WORKERS) - 2250 EA\n",
      "       - BALL PEN BLUE - 1000 EA\n",
      "       - GELL PEN BLACK - 100 EA\n",
      "       - GELL PEN RED - 50 EA\n",
      "       - GELL PEN BLUE - 150 EA\n",
      "     - Total Quantity: 3600 EA\n",
      "\n",
      "2. **Vendor: BLR CONSMSTN**\n",
      "   - **Rank: 2**\n",
      "   - **Details:**\n",
      "     - Offers several types of pens including:\n",
      "       - Classmate hook pen (blue) - 250 EA\n",
      "       - RED PEN - 25 EA\n",
      "       - Uniball eye Fine (Block PEN) - 50 EA\n",
      "     - Total Quantity: 325 EA\n",
      "\n",
      "3. **Vendor: AHM CONSMOTH**\n",
      "   - **Rank: 3**\n",
      "   - **Details:**\n",
      "     - Offers a limited selection of ball pens:\n",
      "       - Octen Gel Ballpen-BL - 250 EA\n",
      "     - Total Quantity: 250 EA\n",
      "\n",
      "These rankings are based on the quantity of ball pens available from each vendor, with SRE CONSMOTH being the most favorable option due to the highest quantity and variety.\n"
     ]
    }
   ],
   "source": [
    "generated = retrieval_chain.invoke({\"input\": \"Can you suggest top 3 best vendor to procure ballpen and give rank to each vendor?\"})\n",
    "print(generated[\"answer\"])"
   ]
  },
  {
   "cell_type": "code",
   "execution_count": 64,
   "metadata": {},
   "outputs": [
    {
     "name": "stdout",
     "output_type": "stream",
     "text": [
      "Based on the provided context, here are the details for ballpen vendors along with their vendor codes and rankings based on the lowest unit price:\n",
      "\n",
      "### Recommended Vendor for Bulk Order:\n",
      "1. **Vendor Code: ZZZ 5813736581**\n",
      "   - **Description:** BALL PEN BLUE (FOR WORKERS)\n",
      "   - **Unit Price:** INR 32.95\n",
      "   - **Quantity Available:** 2250 EA\n",
      "   - **Total Price:** INR 92.75\n",
      "\n",
      "### Alternate Vendors for Negotiation:\n",
      "2. **Vendor Code: YYY 9848147211**\n",
      "   - **Description:** Pen (Ball) Classmate\n",
      "   - **Unit Price:** INR 125\n",
      "   - **Quantity Available:** 25 NO\n",
      "   - **Total Price:** INR 700\n",
      "\n",
      "3. **Vendor Code: ZZZ 6599853239**\n",
      "   - **Description:** RED PEN\n",
      "   - **Unit Price:** INR 42.5\n",
      "   - **Quantity Available:** 25 EA\n",
      "   - **Total Price:** INR 250.8\n",
      "\n",
      "4. **Vendor Code: ZZZ 6599853239**\n",
      "   - **Description:** Classmate hook pen (blue)\n",
      "   - **Unit Price:** INR 42.5\n",
      "   - **Quantity Available:** 250 EA\n",
      "   - **Total Price:** INR 2507.5\n",
      "\n",
      "### Ranking Based on Lowest Unit Price:\n",
      "1. **Vendor Code: ZZZ 5813736581** - INR 32.95 (Best Offer)\n",
      "2. **Vendor Code: ZZZ 6599853239** - INR 42.5 (Classmate hook pen)\n",
      "3. **Vendor Code: ZZZ 6599853239** - INR 42.5 (RED PEN)\n",
      "4. **Vendor Code: YYY 9848147211** - INR 125 (Pen (Ball) Classmate)\n",
      "\n",
      "### Summary:\n",
      "- The best offer for a bulk order of ballpens is from **Vendor Code: ZZZ 5813736581** with a unit price of **INR 32.95**.\n",
      "- Alternate vendors for negotiation include **YYY 9848147211** and **ZZZ 6599853239** with higher unit prices.\n"
     ]
    }
   ],
   "source": [
    "generated = retrieval_chain.invoke({\"input\": \"I want to buy a ballpen in bulk order. can you suggest a vendor who can give best offer for bulk order with vendor code. also suggest some alternate vendor code for negotiation. give rank for each vendor based on the lowest unit price\"})\n",
    "print(generated[\"answer\"])"
   ]
  },
  {
   "cell_type": "code",
   "execution_count": 60,
   "metadata": {},
   "outputs": [
    {
     "name": "stdout",
     "output_type": "stream",
     "text": [
      "Based on the provided context, we can classify the data into codified and non-codified products as follows:\n",
      "\n",
      "### Codified Products\n",
      "These products have a specific HSN (Harmonized System of Nomenclature) code associated with them, indicating they are standardized and classified for trade purposes.\n",
      "\n",
      "1. **Dell Thunderbolt Dock - WD22TB4**\n",
      "   - HSN Code: 8473 30 99\n",
      "   - Net Price: 110500 INR\n",
      "   - Effective Price: 130390 INR\n",
      "\n",
      "2. **Scott Slim Roll Towel**\n",
      "   - HSN Code: 4818 10 00\n",
      "   - Net Price: 2700 INR\n",
      "   - Effective Price: 38232 INR\n",
      "\n",
      "3. **Nimlyle Floor Cleaner**\n",
      "   - HSN Code: 3401 30 90\n",
      "   - Net Price: 350 INR\n",
      "   - Effective Price: 6608 INR\n",
      "\n",
      "4. **Savlon Handwash Pump Type**\n",
      "   - HSN Code: 3402 20 10\n",
      "   - Net Price: 400 INR\n",
      "   - Effective Price: 3304 INR\n",
      "\n",
      "5. **Domex Toilet Cleaner**\n",
      "   - HSN Code: 3808 94 00\n",
      "   - Net Price: 415 INR\n",
      "   - Effective Price: 7345.5 INR\n",
      "\n",
      "6. **Lizol 500 ml**\n",
      "   - HSN Code: 3401 30 90\n",
      "   - Net Price: 465 INR\n",
      "   - Effective Price: 4938.3 INR\n",
      "\n",
      "7. **Vim Liquid 500 ml**\n",
      "   - HSN Code: Not provided (assumed codified based on context)\n",
      "   - Net Price: 550 INR\n",
      "   - Effective Price: 7700 INR\n",
      "\n",
      "8. **Hard Cover Register (100 pages)**\n",
      "   - HSN Code: 4820A\n",
      "   - Net Price: 525 INR\n",
      "   - Effective Price: 30975 INR\n",
      "\n",
      "9. **Pencil (Packets)**\n",
      "   - HSN Code: 4421\n",
      "   - Net Price: 250 INR\n",
      "   - Effective Price: 1680 INR\n",
      "\n",
      "10. **Rubber (Pcs)**\n",
      "    - HSN Code: 4016A\n",
      "    - Net Price: 225 INR\n",
      "    - Effective Price: 472.5 INR\n",
      "\n",
      "11. **CD Marker**\n",
      "    - HSN Code: 9608\n",
      "    - Net Price: 100 INR\n",
      "    - Effective Price: 1680 INR\n",
      "\n",
      "12. **Classmate Hard Cover Register (360 pages)**\n",
      "    - HSN Code: 4820A\n",
      "    - Net Price: 1000 INR\n",
      "    - Effective Price: 59000 INR\n",
      "\n",
      "13. **Tape**\n",
      "    - HSN Code: 3919\n",
      "    - Net Price: 200 INR\n",
      "    - Effective Price: 1416 INR\n",
      "\n",
      "14. **Ring File**\n",
      "    - HSN Code: 8305\n",
      "    - Net Price: 250 INR\n",
      "    - Effective Price: 4425 INR\n",
      "\n",
      "15. **Cardamom**\n",
      "    - HSN Code: 0908\n",
      "    - Net Price: 13.5 INR\n",
      "    - Effective Price: 3543.8 INR\n",
      "\n",
      "16. **Meetha Biscuits (ITC Make)**\n",
      "    - HSN Code: 1905\n",
      "    - Net Price: 157.25 INR\n",
      "    - Effective Price: 12988.9 INR\n",
      "\n",
      "17. **Namkeen Biscuits (ITC Make)**\n",
      "    - HSN Code: 1905\n",
      "    - Net Price: 153.9 INR\n",
      "    - Effective Price: 5448.1 INR\n",
      "\n",
      "18. **Coffee (Nescafe)**\n",
      "    - HSN Code: 0901\n",
      "    - Net Price: 16000 INR\n",
      "    - Effective Price: 6720 INR\n",
      "\n",
      "19. **CFC Stickers**\n",
      "    - HSN Code: 8537A\n",
      "    - Net Price: 441190 INR\n",
      "    - Effective Price: 520604.2 INR\n",
      "\n",
      "20. **Display Sticker**\n",
      "    - HSN Code: 4911\n",
      "    - Net Price: 21.5 INR\n",
      "    - Effective Price: 126850 INR\n",
      "\n",
      "21. **Barcode Sticker**\n",
      "    - HSN Code: 4911\n",
      "    - Net Price: 1 INR\n",
      "    - Effective Price: 29500 INR\n",
      "\n",
      "22. **Pallet Sticker**\n",
      "    - HSN Code: 4911\n",
      "    - Net Price: 10 INR\n",
      "    - Effective Price: 5900 INR\n",
      "\n",
      "23. **Wooden Pallet (N) 1200X1000mm**\n",
      "    - HSN Code: Not provided (assumed codified based on context)\n",
      "    - Net Price: 14000 INR\n",
      "    - Effective Price: 940800 INR\n",
      "\n",
      "24. **Transport Charges**\n",
      "    - HSN Code: 4415\n",
      "    - Net Price: 75000 INR\n",
      "    - Effective Price: 88500 INR\n",
      "\n",
      "25. **6X4 Feet White Board with MS Stand**\n",
      "    - HSN Code: 3921\n",
      "    - Net Price: 34000 INR\n",
      "    - Effective Price: 40120 INR\n",
      "\n",
      "26. **Break Down Slip Book 200 Page Book**\n",
      "    - HSN Code: 4821A\n",
      "    - Net Price: 3450 INR\n",
      "    - Effective Price: 20355 INR\n",
      "\n",
      "27. **Packing & Forwarding Charges**\n",
      "    - HSN Code: 8422\n",
      "    - Net Price: 10500 INR\n",
      "    - Effective Price: 12390 INR\n",
      "\n",
      "### Non-Codified Products\n",
      "These products do not have a specific HSN code associated with them, indicating they may not be standardized for trade purposes.\n",
      "\n",
      "1. **Accessories (General)**\n",
      "   - No specific HSN code provided.\n",
      "\n",
      "2. **Other items without HSN codes in the provided data.**\n",
      "\n",
      "### Summary\n",
      "- **Codified Products:** Items with specific HSN codes.\n",
      "- **Non-Codified Products:** Items without specific HSN codes. \n",
      "\n",
      "If you need further classification or details, please let me know!\n"
     ]
    }
   ],
   "source": [
    "generated = retrieval_chain.invoke({\"input\": \"can you clasify the data based on codified product and non codified products\"})\n",
    "print(generated[\"answer\"])"
   ]
  },
  {
   "cell_type": "code",
   "execution_count": 55,
   "metadata": {},
   "outputs": [
    {
     "name": "stdout",
     "output_type": "stream",
     "text": [
      "The provided data appears to be a structured list of transactions or orders, likely from a business or inventory management system. Each entry contains various fields that provide detailed information about the items or services being ordered. Here are some key observations:\n",
      "\n",
      "1. **Transaction Details**: Each entry includes a unique identifier (e.g., numbers like 2402, 8531, etc.), dates (e.g., 2024-01-09), quantities (e.g., 5 EA), and pricing information (e.g., 35000 INR).\n",
      "\n",
      "2. **Item Descriptions**: The data includes descriptions of the items or services, such as \"GFK Red Firm FT MDPPCT-CC\" or \"AIRTEL 4G DATA CARD SERVICE_EGAU_Jan'24,\" indicating a variety of products and services.\n",
      "\n",
      "3. **Categories**: The entries are categorized under different types, such as \"CONSMOTH\" (likely consumer goods) and \"SERVMISC\" (miscellaneous services), suggesting a diverse range of offerings.\n",
      "\n",
      "4. **Pricing Information**: Each entry includes pricing details, including unit prices and total amounts, which are specified in Indian Rupees (INR).\n",
      "\n",
      "5. **Order Types**: Some entries indicate specific order types, such as \"FT\" (possibly for full-time), \"CC\" (could mean credit card), or \"EA\" (each), which may denote how the items are sold or billed.\n",
      "\n",
      "6. **Dates**: The dates associated with each entry suggest when the orders were placed or are scheduled for delivery, with some entries indicating future dates.\n",
      "\n",
      "7. **Identifiers**: There are multiple identifiers in each entry, including what seems to be product codes and possibly supplier or customer IDs.\n",
      "\n",
      "Overall, the data reflects a comprehensive record of transactions, likely used for inventory tracking, sales reporting, or financial analysis within a business context.\n"
     ]
    }
   ],
   "source": [
    "generated = retrieval_chain.invoke({\"input\": \"what u understand from data we provided\"})\n",
    "print(generated[\"answer\"])"
   ]
  },
  {
   "cell_type": "code",
   "execution_count": 63,
   "metadata": {},
   "outputs": [
    {
     "name": "stdout",
     "output_type": "stream",
     "text": [
      "Based on the context provided, two notable options for tea are:\n",
      "\n",
      "1. **Tetley Green Tea (100s)** - Priced at 2,975 INR for a pack of 100, it is a popular choice known for its quality and flavor.\n",
      "\n",
      "2. **Tata Tea Bag (100 pic)** - Priced at 1,000 INR for a pack of 100, this is another well-regarded option that offers good value.\n",
      "\n",
      "Both options are well-reviewed and widely consumed, making them excellent choices for tea lovers. If you prefer green tea, Tetley would be the best pick, while Tata Tea is a great option for traditional tea.\n"
     ]
    }
   ],
   "source": [
    "generated = retrieval_chain.invoke({\"input\": \"Can you suggest a best tea?\"})\n",
    "print(generated[\"answer\"])"
   ]
  },
  {
   "cell_type": "code",
   "execution_count": 67,
   "metadata": {},
   "outputs": [
    {
     "name": "stdout",
     "output_type": "stream",
     "text": [
      "The cost of Diethyl Malonate is 3,250 INR for 5 KG.\n"
     ]
    }
   ],
   "source": [
    "generated = retrieval_chain.invoke({\"input\": \"What's the cost of Diethyl Malonate?\"})\n",
    "print(generated[\"answer\"])"
   ]
  }
 ],
 "metadata": {
  "kernelspec": {
   "display_name": "Python 3 (ipykernel)",
   "language": "python",
   "name": "python3"
  },
  "language_info": {
   "codemirror_mode": {
    "name": "ipython",
    "version": 3
   },
   "file_extension": ".py",
   "mimetype": "text/x-python",
   "name": "python",
   "nbconvert_exporter": "python",
   "pygments_lexer": "ipython3",
   "version": "3.13.1"
  }
 },
 "nbformat": 4,
 "nbformat_minor": 4
}
